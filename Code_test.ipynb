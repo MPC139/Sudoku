{
 "cells": [
  {
   "cell_type": "code",
   "execution_count": 6,
   "metadata": {},
   "outputs": [
    {
     "name": "stdout",
     "output_type": "stream",
     "text": [
      "[' ', 3, 1, 7, 8, 2, 7, 5, 2, 4, ' ', 4, 3, 1, 3, 9, 5, ' ', 7, 5, ' ', 5, 2, 1, 5, 7, 2, 2, 4, 6, 1, 8, 5, ' ', 4, 3, 4, 5, 1, 1, 5, 8, 6, 2, ' ', 9, 5, 5, ' ', 6, 7, 9, 1, ' ', 4, 9, 6, 8, 1, 9, 6, 7, 5, 5, ' ', 4, ' ', 6, ' ', 8, 1, 8, 9, 4, 4, 2, 6, 2, 9, 2, 7]\n",
      "81\n"
     ]
    }
   ],
   "source": [
    "#\n",
    "import random\n",
    "opcion = [' ',1,2,3,4,5,6,7,8,9]\n",
    "l = [random.choice(opcion) for x in range(0,81)]\n",
    "print(l)\n",
    "print(len(l))"
   ]
  },
  {
   "cell_type": "code",
   "execution_count": 15,
   "metadata": {},
   "outputs": [],
   "source": [
    "l2 = [[random.choice(opcion) for x in range(9)] for y in range(9) ]"
   ]
  },
  {
   "cell_type": "code",
   "execution_count": 16,
   "metadata": {},
   "outputs": [
    {
     "data": {
      "text/plain": [
       "[[1, 1, 4, 1, 7, ' ', 6, 3, 6],\n",
       " [4, 8, 7, 4, 7, 7, 1, 3, 6],\n",
       " [7, 4, 3, 6, 8, 9, 7, 9, 5],\n",
       " [7, ' ', 5, 7, 6, 3, 6, 9, 2],\n",
       " [' ', 5, 2, 7, 1, 6, 5, ' ', 8],\n",
       " [5, 5, 6, 1, ' ', 3, 9, 2, 4],\n",
       " [6, 9, 5, 9, 9, 5, 8, 2, 2],\n",
       " [' ', 5, 8, ' ', 2, 9, 8, 3, 9],\n",
       " [' ', 4, 6, 6, 7, 9, 8, 2, 7]]"
      ]
     },
     "execution_count": 16,
     "metadata": {},
     "output_type": "execute_result"
    }
   ],
   "source": [
    "l2"
   ]
  },
  {
   "cell_type": "code",
   "execution_count": 55,
   "metadata": {},
   "outputs": [],
   "source": [
    "sudoku_1 = [[5, 3, \"\", \"\", 7, \"\", \"\", \"\", \"\"],\n",
    "          [6, \"\", \"\", 1, 9, 5, \"\", \"\",\"\"],\n",
    "          [\"\", 9, 8, \"\", \"\", \"\", \"\", 6, \"\"],\n",
    "          [8, 9, \"\", \"\", 6, \"\", \"\", \"\", 3],\n",
    "          [4, \"\", \"\", 9, \"\", 1, \"\", \"\", 1],\n",
    "          [7, \"\", \"\", \"\", 2, \"\", \"\", \"\", 6],\n",
    "          [\"\", 6, \"\", \"\", \"\", \"\", 2, 8, \"\"],\n",
    "          [\"\", \"\", \"\", 4, 1, 9, \"\", \"\", 5],\n",
    "          [\"\", \"\", \"\", \"\", 8, \"\", \"\", 7, 9]]"
   ]
  },
  {
   "cell_type": "code",
   "execution_count": 38,
   "metadata": {},
   "outputs": [],
   "source": [
    "def check_size(sudoku):\n",
    "    \"\"\"Verify if the sudoku is 9x9.\"\"\"\n",
    "    if len(sudoku)!=9:\n",
    "        return False\n",
    "    for x in sudoku:\n",
    "        if len(x)!=9:\n",
    "            return False\n",
    "    return True\n",
    "    "
   ]
  },
  {
   "cell_type": "code",
   "execution_count": 39,
   "metadata": {},
   "outputs": [
    {
     "data": {
      "text/plain": [
       "True"
      ]
     },
     "execution_count": 39,
     "metadata": {},
     "output_type": "execute_result"
    }
   ],
   "source": [
    "check_size(sudoku_1)"
   ]
  },
  {
   "cell_type": "code",
   "execution_count": 51,
   "metadata": {},
   "outputs": [],
   "source": [
    "def check_numbers(sudoku):\n",
    "    possibilities = [\"\",1,2,3,4,5,6,7,8,9]\n",
    "    for row in sudoku:\n",
    "        for value in row:\n",
    "            if value not in possibilities:\n",
    "                return False\n",
    "    return True"
   ]
  },
  {
   "cell_type": "code",
   "execution_count": 56,
   "metadata": {},
   "outputs": [
    {
     "data": {
      "text/plain": [
       "True"
      ]
     },
     "execution_count": 56,
     "metadata": {},
     "output_type": "execute_result"
    }
   ],
   "source": [
    "check_numbers(sudoku_1)"
   ]
  },
  {
   "cell_type": "code",
   "execution_count": 57,
   "metadata": {},
   "outputs": [],
   "source": [
    "def valid_sudoku(sudoku):\n",
    "    \"\"\"Verify if the sudoku is correct.\"\"\"\n",
    "    if check_size(sudoku) and check_numbers(sudoku):\n",
    "        return True\n",
    "    else:\n",
    "        return False"
   ]
  },
  {
   "cell_type": "code",
   "execution_count": 65,
   "metadata": {},
   "outputs": [
    {
     "data": {
      "text/plain": [
       "False"
      ]
     },
     "execution_count": 65,
     "metadata": {},
     "output_type": "execute_result"
    }
   ],
   "source": [
    "sudoku_1 = [[5, 3, \"\", \"\", 7, \"\", \"\", \"\"],\n",
    "          [6, \"\", \"\", 1, 9, 5, \"\", \"\",\"\"],\n",
    "          [\"\", 9, 8, \"\", \"\", \"\", \"\", 6, \"\"],\n",
    "          [8, 9, \"\", \"\", 6, \"\", \"\", \"\", 3],\n",
    "          [4, \"\", \"\", 9, \"\", 1, \"\", \"\", 1],\n",
    "          [7, \"\", \"\", \"\", 2, \"\", \"\", \"\", 6],\n",
    "          [\"\", 6, \"\", \"\", \"\", \"\", 2, 8, \"\"],\n",
    "          [\"\", \"\", \"\", 4, 1, 9, \"\", \"\", 5],\n",
    "          [\"\", \"\", \"\", \"\", 8, \"\", \"\", 7, 9]]\n",
    "\n",
    "valid_sudoku(sudoku_1)"
   ]
  },
  {
   "cell_type": "code",
   "execution_count": null,
   "metadata": {},
   "outputs": [],
   "source": []
  }
 ],
 "metadata": {
  "kernelspec": {
   "display_name": "Python 3",
   "language": "python",
   "name": "python3"
  },
  "language_info": {
   "codemirror_mode": {
    "name": "ipython",
    "version": 3
   },
   "file_extension": ".py",
   "mimetype": "text/x-python",
   "name": "python",
   "nbconvert_exporter": "python",
   "pygments_lexer": "ipython3",
   "version": "3.11.4"
  },
  "orig_nbformat": 4
 },
 "nbformat": 4,
 "nbformat_minor": 2
}
